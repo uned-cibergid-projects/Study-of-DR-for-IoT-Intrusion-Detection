{
 "cells": [
  {
   "cell_type": "code",
   "execution_count": 1,
   "metadata": {
    "_cell_guid": "b1076dfc-b9ad-4769-8c92-a6c4dae69d19",
    "_uuid": "8f2839f25d086af736a60e9eeb907d3b93b6e0e5"
   },
   "outputs": [],
   "source": [
    "import pandas as pd\n",
    "import numpy as np"
   ]
  },
  {
   "cell_type": "code",
   "execution_count": 2,
   "metadata": {},
   "outputs": [],
   "source": [
    "from hashlib import md5\n",
    "from sklearn.preprocessing import LabelEncoder"
   ]
  },
  {
   "cell_type": "code",
   "execution_count": 3,
   "metadata": {},
   "outputs": [
    {
     "name": "stdout",
     "output_type": "stream",
     "text": [
      "<class 'pandas.core.frame.DataFrame'>\n",
      "RangeIndex: 2219201 entries, 0 to 2219200\n",
      "Data columns (total 63 columns):\n",
      " #   Column                     Dtype  \n",
      "---  ------                     -----  \n",
      " 0   frame.time                 object \n",
      " 1   ip.src_host                object \n",
      " 2   ip.dst_host                object \n",
      " 3   arp.dst.proto_ipv4         object \n",
      " 4   arp.opcode                 float64\n",
      " 5   arp.hw.size                float64\n",
      " 6   arp.src.proto_ipv4         object \n",
      " 7   icmp.checksum              float64\n",
      " 8   icmp.seq_le                float64\n",
      " 9   icmp.transmit_timestamp    float64\n",
      " 10  icmp.unused                float64\n",
      " 11  http.file_data             object \n",
      " 12  http.content_length        float64\n",
      " 13  http.request.uri.query     object \n",
      " 14  http.request.method        object \n",
      " 15  http.referer               object \n",
      " 16  http.request.full_uri      object \n",
      " 17  http.request.version       object \n",
      " 18  http.response              float64\n",
      " 19  http.tls_port              float64\n",
      " 20  tcp.ack                    float64\n",
      " 21  tcp.ack_raw                float64\n",
      " 22  tcp.checksum               float64\n",
      " 23  tcp.connection.fin         float64\n",
      " 24  tcp.connection.rst         float64\n",
      " 25  tcp.connection.syn         float64\n",
      " 26  tcp.connection.synack      float64\n",
      " 27  tcp.dstport                float64\n",
      " 28  tcp.flags                  float64\n",
      " 29  tcp.flags.ack              float64\n",
      " 30  tcp.len                    float64\n",
      " 31  tcp.options                object \n",
      " 32  tcp.payload                object \n",
      " 33  tcp.seq                    float64\n",
      " 34  tcp.srcport                object \n",
      " 35  udp.port                   float64\n",
      " 36  udp.stream                 float64\n",
      " 37  udp.time_delta             float64\n",
      " 38  dns.qry.name               float64\n",
      " 39  dns.qry.name.len           object \n",
      " 40  dns.qry.qu                 float64\n",
      " 41  dns.qry.type               float64\n",
      " 42  dns.retransmission         float64\n",
      " 43  dns.retransmit_request     float64\n",
      " 44  dns.retransmit_request_in  float64\n",
      " 45  mqtt.conack.flags          object \n",
      " 46  mqtt.conflag.cleansess     float64\n",
      " 47  mqtt.conflags              float64\n",
      " 48  mqtt.hdrflags              float64\n",
      " 49  mqtt.len                   float64\n",
      " 50  mqtt.msg_decoded_as        float64\n",
      " 51  mqtt.msg                   object \n",
      " 52  mqtt.msgtype               float64\n",
      " 53  mqtt.proto_len             float64\n",
      " 54  mqtt.protoname             object \n",
      " 55  mqtt.topic                 object \n",
      " 56  mqtt.topic_len             float64\n",
      " 57  mqtt.ver                   float64\n",
      " 58  mbtcp.len                  float64\n",
      " 59  mbtcp.trans_id             float64\n",
      " 60  mbtcp.unit_id              float64\n",
      " 61  Attack_label               int64  \n",
      " 62  Attack_type                object \n",
      "dtypes: float64(42), int64(1), object(20)\n",
      "memory usage: 1.0+ GB\n"
     ]
    }
   ],
   "source": [
    "df = pd.read_csv(\"DNN-EdgeIIoT-dataset.csv\", low_memory=False)\n",
    "df.info()"
   ]
  },
  {
   "cell_type": "markdown",
   "metadata": {},
   "source": [
    "**Drop unnecessary and constant columns**"
   ]
  },
  {
   "cell_type": "code",
   "execution_count": 5,
   "metadata": {},
   "outputs": [],
   "source": [
    "drop_columns = [\"frame.time\", \"ip.src_host\", \"ip.dst_host\", \"arp.dst.proto_ipv4\", \"arp.src.proto_ipv4\",\n",
    "                \"http.file_data\", \"http.request.uri.query\",\n",
    "                \"http.request.full_uri\", \"tcp.options\", \"tcp.payload\",\n",
    "                \"tcp.srcport\", \"mqtt.msg\"]\n",
    "df.drop(drop_columns, axis = 1, inplace = True)"
   ]
  },
  {
   "cell_type": "code",
   "execution_count": 6,
   "metadata": {},
   "outputs": [
    {
     "name": "stdout",
     "output_type": "stream",
     "text": [
      "Constant columns: ['icmp.unused', 'http.tls_port', 'dns.qry.type', 'mqtt.msg_decoded_as']\n"
     ]
    }
   ],
   "source": [
    "constant_cols = df.nunique() == 1\n",
    "constant_cols = constant_cols[constant_cols].index  \n",
    "print(f\"Constant columns: {list(constant_cols)}\")"
   ]
  },
  {
   "cell_type": "code",
   "execution_count": 7,
   "metadata": {},
   "outputs": [],
   "source": [
    "columns_to_drop = ['icmp.unused', 'http.tls_port', 'dns.qry.type', 'mqtt.msg_decoded_as']\n",
    "df = df.drop(columns=columns_to_drop)"
   ]
  },
  {
   "cell_type": "code",
   "execution_count": 8,
   "metadata": {},
   "outputs": [],
   "source": [
    "df = df.rename(columns={'http.request.method': 'http1', 'http.referer': 'http2', 'http.request.version': 'http3', 'dns.qry.name.len': 'dns', 'mqtt.conack.flags': 'mqtt1', 'mqtt.protoname': 'mqtt2', 'mqtt.topic': 'mqtt3'})"
   ]
  },
  {
   "cell_type": "markdown",
   "metadata": {},
   "source": [
    "**Encoding cateorical columns**"
   ]
  },
  {
   "cell_type": "code",
   "execution_count": 10,
   "metadata": {},
   "outputs": [],
   "source": [
    "le_http1 = LabelEncoder()\n",
    "le_http2 = LabelEncoder()\n",
    "le_http3 = LabelEncoder()\n",
    "le_dns = LabelEncoder()\n",
    "le_mqtt1 = LabelEncoder()\n",
    "le_mqtt2 = LabelEncoder()\n",
    "le_mqtt3 = LabelEncoder()"
   ]
  },
  {
   "cell_type": "code",
   "execution_count": 11,
   "metadata": {},
   "outputs": [],
   "source": [
    "df['http1_encoded'] = le_http1.fit_transform(df.http1)\n",
    "df['http2_encoded'] = le_http2.fit_transform(df.http2)\n",
    "df['http3_encoded'] = le_http3.fit_transform(df.http3)\n",
    "df['dns_encoded'] = le_dns.fit_transform(df.dns)\n",
    "df['mqtt1_encoded'] = le_mqtt1.fit_transform(df.mqtt1)\n",
    "df['mqtt2_encoded'] = le_mqtt2.fit_transform(df.mqtt2)\n",
    "df['mqtt3_encoded'] = le_mqtt3.fit_transform(df.mqtt3)"
   ]
  },
  {
   "cell_type": "code",
   "execution_count": 12,
   "metadata": {},
   "outputs": [],
   "source": [
    "df.drop(columns=['http1','http2','http3', 'dns','mqtt1','mqtt2', 'mqtt3'], inplace = True )"
   ]
  },
  {
   "cell_type": "markdown",
   "metadata": {},
   "source": [
    "**Remove NAs and duplicates**"
   ]
  },
  {
   "cell_type": "code",
   "execution_count": 14,
   "metadata": {},
   "outputs": [
    {
     "data": {
      "text/plain": [
       "arp.opcode                   0\n",
       "arp.hw.size                  0\n",
       "icmp.checksum                0\n",
       "icmp.seq_le                  0\n",
       "icmp.transmit_timestamp      0\n",
       "http.content_length          0\n",
       "http.response                0\n",
       "tcp.ack                      0\n",
       "tcp.ack_raw                  0\n",
       "tcp.checksum                 0\n",
       "tcp.connection.fin           0\n",
       "tcp.connection.rst           0\n",
       "tcp.connection.syn           0\n",
       "tcp.connection.synack        0\n",
       "tcp.dstport                  0\n",
       "tcp.flags                    0\n",
       "tcp.flags.ack                0\n",
       "tcp.len                      0\n",
       "tcp.seq                      0\n",
       "udp.port                     0\n",
       "udp.stream                   0\n",
       "udp.time_delta               0\n",
       "dns.qry.name                 0\n",
       "dns.qry.qu                   0\n",
       "dns.retransmission           0\n",
       "dns.retransmit_request       0\n",
       "dns.retransmit_request_in    0\n",
       "mqtt.conflag.cleansess       0\n",
       "mqtt.conflags                0\n",
       "mqtt.hdrflags                0\n",
       "mqtt.len                     0\n",
       "mqtt.msgtype                 0\n",
       "mqtt.proto_len               0\n",
       "mqtt.topic_len               0\n",
       "mqtt.ver                     0\n",
       "mbtcp.len                    0\n",
       "mbtcp.trans_id               0\n",
       "mbtcp.unit_id                0\n",
       "Attack_label                 0\n",
       "Attack_type                  0\n",
       "http1_encoded                0\n",
       "http2_encoded                0\n",
       "http3_encoded                0\n",
       "dns_encoded                  0\n",
       "mqtt1_encoded                0\n",
       "mqtt2_encoded                0\n",
       "mqtt3_encoded                0\n",
       "dtype: int64"
      ]
     },
     "execution_count": 14,
     "metadata": {},
     "output_type": "execute_result"
    }
   ],
   "source": [
    "df.isnull().sum()"
   ]
  },
  {
   "cell_type": "code",
   "execution_count": 15,
   "metadata": {},
   "outputs": [
    {
     "data": {
      "text/plain": [
       "273752"
      ]
     },
     "execution_count": 15,
     "metadata": {},
     "output_type": "execute_result"
    }
   ],
   "source": [
    "df.duplicated().sum()"
   ]
  },
  {
   "cell_type": "code",
   "execution_count": 16,
   "metadata": {},
   "outputs": [],
   "source": [
    "df = df.drop_duplicates()"
   ]
  },
  {
   "cell_type": "markdown",
   "metadata": {},
   "source": [
    "**Drop identical columns**"
   ]
  },
  {
   "cell_type": "code",
   "execution_count": 18,
   "metadata": {},
   "outputs": [
    {
     "name": "stdout",
     "output_type": "stream",
     "text": [
      "Groups of identical columns: [['mqtt.proto_len', 'mqtt.ver']]\n"
     ]
    }
   ],
   "source": [
    "# Create a hash for each column\n",
    "def hash_column(series):\n",
    "    return md5(pd.util.hash_pandas_object(series, index=False).values).hexdigest()\n",
    "\n",
    "# Find columns with identical hashes\n",
    "def find_identical_columns_by_hash(df):\n",
    "    hash_dict = {}\n",
    "    for col in df.columns:\n",
    "        col_hash = hash_column(df[col])\n",
    "        if col_hash in hash_dict:\n",
    "            hash_dict[col_hash].append(col)\n",
    "        else:\n",
    "            hash_dict[col_hash] = [col]\n",
    "\n",
    "    return [cols for cols in hash_dict.values() if len(cols) > 1]\n",
    "\n",
    "# Applying the function to the DataFrame\n",
    "identical_column_groups = find_identical_columns_by_hash(df)\n",
    "print(\"Groups of identical columns:\", identical_column_groups)"
   ]
  },
  {
   "cell_type": "code",
   "execution_count": 19,
   "metadata": {},
   "outputs": [],
   "source": [
    "# Groups of identical columns\n",
    "identical_column_groups = [\n",
    "    ['mqtt.proto_len', 'mqtt.ver']\n",
    "]\n",
    "\n",
    "# Iterate through the list of groups and drop all but the first column\n",
    "for group in identical_column_groups:\n",
    "    # Keep the first column of the group and drop the rest\n",
    "    columns_to_drop = group[1:]  # all columns except the first one\n",
    "    df = df.drop(columns_to_drop, axis=1)"
   ]
  },
  {
   "cell_type": "code",
   "execution_count": 20,
   "metadata": {},
   "outputs": [
    {
     "name": "stdout",
     "output_type": "stream",
     "text": [
      "<class 'pandas.core.frame.DataFrame'>\n",
      "Index: 1945449 entries, 0 to 2219193\n",
      "Data columns (total 46 columns):\n",
      " #   Column                     Dtype  \n",
      "---  ------                     -----  \n",
      " 0   arp.opcode                 float64\n",
      " 1   arp.hw.size                float64\n",
      " 2   icmp.checksum              float64\n",
      " 3   icmp.seq_le                float64\n",
      " 4   icmp.transmit_timestamp    float64\n",
      " 5   http.content_length        float64\n",
      " 6   http.response              float64\n",
      " 7   tcp.ack                    float64\n",
      " 8   tcp.ack_raw                float64\n",
      " 9   tcp.checksum               float64\n",
      " 10  tcp.connection.fin         float64\n",
      " 11  tcp.connection.rst         float64\n",
      " 12  tcp.connection.syn         float64\n",
      " 13  tcp.connection.synack      float64\n",
      " 14  tcp.dstport                float64\n",
      " 15  tcp.flags                  float64\n",
      " 16  tcp.flags.ack              float64\n",
      " 17  tcp.len                    float64\n",
      " 18  tcp.seq                    float64\n",
      " 19  udp.port                   float64\n",
      " 20  udp.stream                 float64\n",
      " 21  udp.time_delta             float64\n",
      " 22  dns.qry.name               float64\n",
      " 23  dns.qry.qu                 float64\n",
      " 24  dns.retransmission         float64\n",
      " 25  dns.retransmit_request     float64\n",
      " 26  dns.retransmit_request_in  float64\n",
      " 27  mqtt.conflag.cleansess     float64\n",
      " 28  mqtt.conflags              float64\n",
      " 29  mqtt.hdrflags              float64\n",
      " 30  mqtt.len                   float64\n",
      " 31  mqtt.msgtype               float64\n",
      " 32  mqtt.proto_len             float64\n",
      " 33  mqtt.topic_len             float64\n",
      " 34  mbtcp.len                  float64\n",
      " 35  mbtcp.trans_id             float64\n",
      " 36  mbtcp.unit_id              float64\n",
      " 37  Attack_label               int64  \n",
      " 38  Attack_type                object \n",
      " 39  http1_encoded              int32  \n",
      " 40  http2_encoded              int32  \n",
      " 41  http3_encoded              int32  \n",
      " 42  dns_encoded                int32  \n",
      " 43  mqtt1_encoded              int32  \n",
      " 44  mqtt2_encoded              int32  \n",
      " 45  mqtt3_encoded              int32  \n",
      "dtypes: float64(37), int32(7), int64(1), object(1)\n",
      "memory usage: 645.7+ MB\n"
     ]
    }
   ],
   "source": [
    "df.info()"
   ]
  },
  {
   "cell_type": "code",
   "execution_count": 21,
   "metadata": {},
   "outputs": [
    {
     "name": "stdout",
     "output_type": "stream",
     "text": [
      "Attack_type\n",
      "Normal                   1399624\n",
      "DDoS_UDP                  121567\n",
      "DDoS_ICMP                  67939\n",
      "SQL_injection              50826\n",
      "DDoS_TCP                   50062\n",
      "Vulnerability_scanner      50026\n",
      "Password                   49933\n",
      "DDoS_HTTP                  48544\n",
      "Uploading                  36957\n",
      "Backdoor                   24026\n",
      "Port_Scanning              19977\n",
      "XSS                        15068\n",
      "Ransomware                  9689\n",
      "Fingerprinting               853\n",
      "MITM                         358\n",
      "Name: count, dtype: int64\n"
     ]
    }
   ],
   "source": [
    "print(df['Attack_type'].value_counts())"
   ]
  },
  {
   "cell_type": "markdown",
   "metadata": {},
   "source": [
    "**Data scaling**"
   ]
  },
  {
   "cell_type": "code",
   "execution_count": 23,
   "metadata": {},
   "outputs": [],
   "source": [
    "float_cols = df.select_dtypes(include=['float']).columns\n",
    "df[float_cols] = np.log1p(df[float_cols])"
   ]
  },
  {
   "cell_type": "markdown",
   "metadata": {},
   "source": [
    "**Save data**"
   ]
  },
  {
   "cell_type": "code",
   "execution_count": 25,
   "metadata": {},
   "outputs": [],
   "source": [
    "# Save data\n",
    "df.to_csv('Edge-IIoTset_clean.csv', index=False)"
   ]
  }
 ],
 "metadata": {
  "kernelspec": {
   "display_name": "Python 3 (ipykernel)",
   "language": "python",
   "name": "python3"
  },
  "language_info": {
   "codemirror_mode": {
    "name": "ipython",
    "version": 3
   },
   "file_extension": ".py",
   "mimetype": "text/x-python",
   "name": "python",
   "nbconvert_exporter": "python",
   "pygments_lexer": "ipython3",
   "version": "3.13.1"
  }
 },
 "nbformat": 4,
 "nbformat_minor": 4
}
