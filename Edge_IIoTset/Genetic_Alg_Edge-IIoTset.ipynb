{
 "cells": [
  {
   "cell_type": "code",
   "execution_count": 1,
   "id": "c7671df1-03d2-4eb4-87f6-18cb67a101a7",
   "metadata": {},
   "outputs": [],
   "source": [
    "import pandas as pd\n",
    "import numpy as np\n",
    "import time\n",
    "import matplotlib.pyplot as plt\n",
    "import pickle\n",
    "import os\n",
    "import random\n",
    "from genetic_selection import GeneticSelectionCV\n",
    "from sklearn.ensemble import RandomForestClassifier"
   ]
  },
  {
   "cell_type": "code",
   "execution_count": 2,
   "id": "8a79b6e0-a9d9-406c-aa26-40581d66bdb7",
   "metadata": {},
   "outputs": [],
   "source": [
    "from sklearn.model_selection import train_test_split\n",
    "from sklearn.metrics import classification_report"
   ]
  },
  {
   "cell_type": "code",
   "execution_count": 3,
   "id": "29cf5a5d-1ff4-4c10-84d1-bda7b07a43c5",
   "metadata": {},
   "outputs": [],
   "source": [
    "random.seed(2025)\n",
    "np.random.seed(2025)"
   ]
  },
  {
   "cell_type": "code",
   "execution_count": 4,
   "id": "d77536f2-466d-4afc-b7bf-9b2bda228b7c",
   "metadata": {},
   "outputs": [],
   "source": [
    "df = pd.read_csv(\"Edge-IIoTset_clean.csv\", low_memory=False)"
   ]
  },
  {
   "cell_type": "code",
   "execution_count": 5,
   "id": "1c313fb5-829f-451e-81d9-20817f204d62",
   "metadata": {},
   "outputs": [],
   "source": [
    "# Creating a dictionary of Types\n",
    "attacks = {'Normal': 0,'MITM': 1, 'Uploading': 2, 'Ransomware': 3, 'SQL_injection': 4,\n",
    "       'DDoS_HTTP': 5, 'DDoS_TCP': 6, 'Password': 7, 'Port_Scanning': 8,\n",
    "       'Vulnerability_scanner': 9, 'Backdoor': 10, 'XSS': 11, 'Fingerprinting': 12,\n",
    "       'DDoS_UDP': 13, 'DDoS_ICMP': 14}\n",
    "df['Attack_type'] = df['Attack_type'].map(attacks)"
   ]
  },
  {
   "cell_type": "code",
   "execution_count": 6,
   "id": "3ca6412d-6ed5-44e3-b267-25b757b02ac7",
   "metadata": {},
   "outputs": [],
   "source": [
    "X = df.drop(columns=['Attack_label', 'Attack_type'])\n",
    "y = df['Attack_type']"
   ]
  },
  {
   "cell_type": "code",
   "execution_count": 7,
   "id": "00b056b0-47dc-4b5e-b57d-91ce81af284c",
   "metadata": {},
   "outputs": [],
   "source": [
    "# Split the data into train (80%) and test (20%) sets\n",
    "X_train, X_test, y_train, y_test = train_test_split(X, y, test_size=0.2, random_state=42, stratify=y)"
   ]
  },
  {
   "cell_type": "code",
   "execution_count": 8,
   "id": "46c9874b-785d-4d4e-acba-ca63b1eeb15e",
   "metadata": {},
   "outputs": [
    {
     "name": "stdout",
     "output_type": "stream",
     "text": [
      "0.9886684314682979\n"
     ]
    }
   ],
   "source": [
    "# Train a base RF model as reference\n",
    "rf = RandomForestClassifier(n_estimators=20, random_state=42, n_jobs=10)\n",
    "rf.fit(X_train, y_train)\n",
    "accuracy_base = rf.score(X_test, y_test)\n",
    "print(accuracy_base)"
   ]
  },
  {
   "cell_type": "code",
   "execution_count": 9,
   "id": "78b43ee5-9ae5-4750-9906-fd4a772fab62",
   "metadata": {},
   "outputs": [],
   "source": [
    "# Inference time of reference model\n",
    "num_repetitions = 10\n",
    "inference_times_base = []\n",
    "for _ in range(num_repetitions):\n",
    "    start_pred = time.time()\n",
    "    _ = rf.predict(X_test)\n",
    "    inference_times_base.append(time.time() - start_pred)\n",
    "inference_time_base = np.median(inference_times_base)\n",
    "\n",
    "# Reference model size\n",
    "model_filename = \"rf_base.pkl\"\n",
    "with open(model_filename, \"wb\") as f:\n",
    "    pickle.dump(rf, f)\n",
    "size_base = os.path.getsize(model_filename) / (1024 * 1024)  # Convertir a MB\n"
   ]
  },
  {
   "cell_type": "code",
   "execution_count": 10,
   "id": "4f6221a0-28e6-456c-9699-d59cfa161a52",
   "metadata": {},
   "outputs": [],
   "source": [
    "# Configure GeneticSelectionCV with custom scoring function\n",
    "n_generations = 5 \n",
    "ga_selector = GeneticSelectionCV(\n",
    "    estimator=rf,                \n",
    "    cv=3,\n",
    "    verbose=1,\n",
    "    scoring='accuracy',      \n",
    "    max_features=X_train.shape[1],\n",
    "    n_population=60,\n",
    "    crossover_proba=0.5,\n",
    "    mutation_proba=0.2,\n",
    "    n_generations=n_generations,\n",
    "    n_jobs=1 \n",
    ")"
   ]
  },
  {
   "cell_type": "code",
   "execution_count": 11,
   "id": "70212db1-ab07-4774-a0e4-0140597a82d1",
   "metadata": {},
   "outputs": [
    {
     "name": "stdout",
     "output_type": "stream",
     "text": [
      "Selecting features with genetic algorithm.\n",
      "gen\tnevals\tavg                               \tstd                               \tmin                            \tmax                               \n",
      "0  \t60    \t[  0.920776  22.466667   0.000135]\t[  0.081585  13.835301   0.000082]\t[ 0.719435  1.        0.000001]\t[  0.989209  44.         0.000366]\n",
      "1  \t35    \t[  0.978678  32.383333   0.000104]\t[ 0.024954  8.600565  0.00007 ]   \t[ 0.835114  6.        0.000019]\t[  0.98965   44.         0.000326]\n",
      "2  \t36    \t[  0.988616  36.65       0.000072]\t[ 0.001324  4.381115  0.000037]   \t[  0.981888  27.         0.000008]\t[  0.989653  44.         0.000191]\n",
      "3  \t34    \t[  0.988674  36.116667   0.000051]\t[ 0.001706  4.1956    0.000035]   \t[  0.980858  26.         0.      ]\t[  0.989659  43.         0.000185]\n",
      "4  \t38    \t[  0.988895  37.333333   0.000038]\t[ 0.001852  3.248931  0.00003 ]   \t[  0.980636  31.         0.000008]\t[  0.989684  43.         0.000163]\n",
      "5  \t29    \t[  0.98956   37.983333   0.000023]\t[ 0.000178  2.765813  0.000011]   \t[  0.988961  31.         0.000007]\t[  0.989684  42.         0.000061]\n"
     ]
    }
   ],
   "source": [
    "# Genetic Algorithm run\n",
    "start_time = time.time()\n",
    "ga_selector.fit(X_train, y_train)\n",
    "ga_time = time.time() - start_time"
   ]
  },
  {
   "cell_type": "code",
   "execution_count": 12,
   "id": "0ecc55ee-c322-4bd9-a1d0-94241e25db7c",
   "metadata": {},
   "outputs": [
    {
     "name": "stdout",
     "output_type": "stream",
     "text": [
      "Features seleccionadas por el Algoritmo Genético: ['arp.opcode', 'icmp.checksum', 'icmp.seq_le', 'icmp.transmit_timestamp', 'http.content_length', 'http.response', 'tcp.ack', 'tcp.ack_raw', 'tcp.connection.fin', 'tcp.connection.rst', 'tcp.connection.syn', 'tcp.connection.synack', 'tcp.dstport', 'tcp.flags.ack', 'tcp.len', 'tcp.seq', 'udp.port', 'udp.stream', 'udp.time_delta', 'dns.qry.qu', 'dns.retransmission', 'dns.retransmit_request', 'dns.retransmit_request_in', 'mqtt.conflag.cleansess', 'mqtt.conflags', 'mqtt.len', 'mqtt.msgtype', 'mqtt.proto_len', 'mqtt.topic_len', 'mbtcp.len', 'mbtcp.trans_id', 'mbtcp.unit_id', 'http1_encoded', 'http2_encoded', 'http3_encoded', 'dns_encoded', 'mqtt1_encoded', 'mqtt2_encoded', 'mqtt3_encoded']\n"
     ]
    }
   ],
   "source": [
    "# List of selected features\n",
    "selected_features = X_train.columns[ga_selector.support_]\n",
    "print(\"Features seleccionadas por el Algoritmo Genético:\", list(selected_features))"
   ]
  },
  {
   "cell_type": "code",
   "execution_count": 13,
   "id": "47cd3bf4-8882-4880-a0d8-a701136689cf",
   "metadata": {},
   "outputs": [
    {
     "name": "stdout",
     "output_type": "stream",
     "text": [
      " Number of selected features: 39\n",
      "\n",
      " Accuracy with selected features: 0.9896\n",
      "\n",
      " Test accuracy: 0.9896\n",
      "\n",
      " Training time: 4.3975\n",
      "\n",
      " Inference_time: 0.4197\n",
      "\n",
      " Model Size: 48.2006\n",
      "\n",
      " Selected Features: ['arp.opcode', 'icmp.checksum', 'icmp.seq_le', 'icmp.transmit_timestamp', 'http.content_length', 'http.response', 'tcp.ack', 'tcp.ack_raw', 'tcp.connection.fin', 'tcp.connection.rst', 'tcp.connection.syn', 'tcp.connection.synack', 'tcp.dstport', 'tcp.flags.ack', 'tcp.len', 'tcp.seq', 'udp.port', 'udp.stream', 'udp.time_delta', 'dns.qry.qu', 'dns.retransmission', 'dns.retransmit_request', 'dns.retransmit_request_in', 'mqtt.conflag.cleansess', 'mqtt.conflags', 'mqtt.len', 'mqtt.msgtype', 'mqtt.proto_len', 'mqtt.topic_len', 'mbtcp.len', 'mbtcp.trans_id', 'mbtcp.unit_id', 'http1_encoded', 'http2_encoded', 'http3_encoded', 'dns_encoded', 'mqtt1_encoded', 'mqtt2_encoded', 'mqtt3_encoded']\n",
      "\n",
      "              precision    recall  f1-score   support\n",
      "\n",
      "           0     1.0000    1.0000    1.0000    279925\n",
      "           1     1.0000    1.0000    1.0000        72\n",
      "           2     0.9364    0.8985    0.9171      7391\n",
      "           3     0.9973    0.9391    0.9673      1938\n",
      "           4     0.9166    0.8527    0.8835     10165\n",
      "           5     0.9529    0.9818    0.9671      9709\n",
      "           6     1.0000    1.0000    1.0000     10012\n",
      "           7     0.8265    0.9098    0.8661      9987\n",
      "           8     0.9983    0.9997    0.9990      3995\n",
      "           9     0.9881    0.9807    0.9844     10005\n",
      "          10     0.9750    0.9996    0.9872      4805\n",
      "          11     0.9428    0.8743    0.9072      3014\n",
      "          12     0.9873    0.9123    0.9483       171\n",
      "          13     0.9999    1.0000    1.0000     24313\n",
      "          14     0.9999    0.9997    0.9998     13588\n",
      "\n",
      "    accuracy                         0.9896    389090\n",
      "   macro avg     0.9681    0.9565    0.9618    389090\n",
      "weighted avg     0.9899    0.9896    0.9896    389090\n",
      "\n"
     ]
    }
   ],
   "source": [
    "# Assess the model with selected features\n",
    "X_train_selected = X_train[selected_features]\n",
    "X_test_selected = X_test[selected_features]\n",
    "\n",
    "start_train = time.time()\n",
    "rf.fit(X_train_selected, y_train)\n",
    "train_time = time.time() - start_train  \n",
    "\n",
    "num_repetitions = 10    \n",
    "inference_times = []\n",
    "for _ in range(num_repetitions):\n",
    "    start_pred = time.time()\n",
    "    y_pred = rf.predict(X_test_selected)\n",
    "    inference_times.append(time.time() - start_pred)\n",
    "\n",
    "inference_time_median = np.median(inference_times)\n",
    "\n",
    "y_pred = rf.predict(X_test_selected)\n",
    "accuracy_ga = rf.score(X_test_selected, y_test)\n",
    "\n",
    "print(f\" Number of selected features: {len(selected_features)}\\n\"),\n",
    "print(f\" Accuracy with selected features: {accuracy_ga:.4f}\\n\")\n",
    "\n",
    "# Save model\n",
    "model_filename = os.path.join(\"RaspberryPi\", \"GA_model.pkl\")\n",
    "with open(model_filename, \"wb\") as f:\n",
    "    pickle.dump(rf, f)    \n",
    "    \n",
    "model_size = os.path.getsize(model_filename) / (1024 * 1024)  # Convertir a MB    \n",
    "\n",
    "# Save feature names\n",
    "features_filename = os.path.join(\"RaspberryPi\", \"GA_features.npy\")\n",
    "np.save(features_filename, np.array(selected_features))\n",
    "\n",
    "# Print results\n",
    "results_ga = pd.DataFrame({\n",
    "    \"Num Features\": [len(selected_features)],\n",
    "    \"Selected Features\": [list(selected_features)],    \n",
    "    \"Accuracy\": [accuracy_ga],\n",
    "    \"Train time\": [train_time],   \n",
    "    \"Inference time\": [inference_time_median],\n",
    "    \"Model size\": [train_time]       \n",
    "})\n",
    "\n",
    "# Print results\n",
    "print(f\" Test accuracy: {accuracy_ga:.4f}\\n\")\n",
    "print(f\" Training time: {train_time:.4f}\\n\")\n",
    "print(f\" Inference_time: {inference_time_median:.4f}\\n\")\n",
    "print(f\" Model Size: {model_size:.4f}\\n\")  \n",
    "print(f\" Selected Features: {list(selected_features)}\\n\")\n",
    "\n",
    "print(classification_report(y_test, y_pred, digits=4))"
   ]
  }
 ],
 "metadata": {
  "kernelspec": {
   "display_name": "Python 3 (ipykernel)",
   "language": "python",
   "name": "python3"
  },
  "language_info": {
   "codemirror_mode": {
    "name": "ipython",
    "version": 3
   },
   "file_extension": ".py",
   "mimetype": "text/x-python",
   "name": "python",
   "nbconvert_exporter": "python",
   "pygments_lexer": "ipython3",
   "version": "3.13.1"
  }
 },
 "nbformat": 4,
 "nbformat_minor": 5
}
