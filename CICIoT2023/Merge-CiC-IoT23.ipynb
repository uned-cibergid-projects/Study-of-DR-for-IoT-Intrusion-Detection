{
 "cells": [
  {
   "cell_type": "code",
   "execution_count": 1,
   "id": "687c3b66-966c-4d4e-a2c4-88aac0cf88b7",
   "metadata": {},
   "outputs": [],
   "source": [
    "import pandas as pd\n",
    "import glob\n",
    "import os\n",
    "import numpy as np\n",
    "\n",
    "from hashlib import md5\n",
    "from sklearn.preprocessing import LabelEncoder\n",
    "\n",
    "csv_folder = 'Original_files_CiCIoT23'\n",
    "csv_files = glob.glob(os.path.join(csv_folder, '*.csv'))\n"
   ]
  },
  {
   "cell_type": "code",
   "execution_count": 2,
   "id": "6ca9cbd4-3f78-49f8-ae66-209d916bdab9",
   "metadata": {},
   "outputs": [],
   "source": [
    "df_list = []\n",
    "\n",
    "# Read each file \n",
    "for i, file in enumerate(csv_files):\n",
    "    df = pd.read_csv(file, low_memory=False)\n",
    "\n",
    "    # Skip repeated header row if present\n",
    "    if i > 0:\n",
    "        df.columns = df_list[0].columns  \n",
    "        df = df[df.columns]  \n",
    "\n",
    "    df_list.append(df)"
   ]
  },
  {
   "cell_type": "code",
   "execution_count": 3,
   "id": "b00d87c6-f344-4cf4-8778-6e95e3ba0a1a",
   "metadata": {},
   "outputs": [
    {
     "data": {
      "text/plain": [
       "(46686579, 47)"
      ]
     },
     "execution_count": 3,
     "metadata": {},
     "output_type": "execute_result"
    }
   ],
   "source": [
    "# Merge dataframes\n",
    "df_merged = pd.concat(df_list, ignore_index=True)\n",
    "df_merged.shape"
   ]
  },
  {
   "cell_type": "code",
   "execution_count": 4,
   "id": "daf3e849-938c-402d-83d6-81779519e7fd",
   "metadata": {},
   "outputs": [],
   "source": [
    "# Save .csv\n",
    "df_merged.to_csv('CiC_IoT23_merged.csv', index=False)"
   ]
  }
 ],
 "metadata": {
  "kernelspec": {
   "display_name": "Python 3 (ipykernel)",
   "language": "python",
   "name": "python3"
  },
  "language_info": {
   "codemirror_mode": {
    "name": "ipython",
    "version": 3
   },
   "file_extension": ".py",
   "mimetype": "text/x-python",
   "name": "python",
   "nbconvert_exporter": "python",
   "pygments_lexer": "ipython3",
   "version": "3.13.1"
  }
 },
 "nbformat": 4,
 "nbformat_minor": 5
}
