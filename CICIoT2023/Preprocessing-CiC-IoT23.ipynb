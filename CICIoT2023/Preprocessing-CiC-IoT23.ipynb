{
 "cells": [
  {
   "cell_type": "code",
   "execution_count": 1,
   "id": "687c3b66-966c-4d4e-a2c4-88aac0cf88b7",
   "metadata": {},
   "outputs": [],
   "source": [
    "import pandas as pd\n",
    "import numpy as np"
   ]
  },
  {
   "cell_type": "code",
   "execution_count": 2,
   "id": "f7308934-9069-47aa-8363-c3ed84ab6b41",
   "metadata": {},
   "outputs": [],
   "source": [
    "from hashlib import md5\n",
    "from sklearn.preprocessing import LabelEncoder"
   ]
  },
  {
   "cell_type": "code",
   "execution_count": 3,
   "id": "a68b8412-6a0d-4a5d-b560-40b2db3504ca",
   "metadata": {},
   "outputs": [
    {
     "name": "stdout",
     "output_type": "stream",
     "text": [
      "<class 'pandas.core.frame.DataFrame'>\n",
      "RangeIndex: 46686579 entries, 0 to 46686578\n",
      "Data columns (total 47 columns):\n",
      " #   Column           Dtype  \n",
      "---  ------           -----  \n",
      " 0   flow_duration    float64\n",
      " 1   Header_Length    float64\n",
      " 2   Protocol Type    float64\n",
      " 3   Duration         float64\n",
      " 4   Rate             float64\n",
      " 5   Srate            float64\n",
      " 6   Drate            float64\n",
      " 7   fin_flag_number  float64\n",
      " 8   syn_flag_number  float64\n",
      " 9   rst_flag_number  float64\n",
      " 10  psh_flag_number  float64\n",
      " 11  ack_flag_number  float64\n",
      " 12  ece_flag_number  float64\n",
      " 13  cwr_flag_number  float64\n",
      " 14  ack_count        float64\n",
      " 15  syn_count        float64\n",
      " 16  fin_count        float64\n",
      " 17  urg_count        float64\n",
      " 18  rst_count        float64\n",
      " 19  HTTP             float64\n",
      " 20  HTTPS            float64\n",
      " 21  DNS              float64\n",
      " 22  Telnet           float64\n",
      " 23  SMTP             float64\n",
      " 24  SSH              float64\n",
      " 25  IRC              float64\n",
      " 26  TCP              float64\n",
      " 27  UDP              float64\n",
      " 28  DHCP             float64\n",
      " 29  ARP              float64\n",
      " 30  ICMP             float64\n",
      " 31  IPv              float64\n",
      " 32  LLC              float64\n",
      " 33  Tot sum          float64\n",
      " 34  Min              float64\n",
      " 35  Max              float64\n",
      " 36  AVG              float64\n",
      " 37  Std              float64\n",
      " 38  Tot size         float64\n",
      " 39  IAT              float64\n",
      " 40  Number           float64\n",
      " 41  Magnitue         float64\n",
      " 42  Radius           float64\n",
      " 43  Covariance       float64\n",
      " 44  Variance         float64\n",
      " 45  Weight           float64\n",
      " 46  label            object \n",
      "dtypes: float64(46), object(1)\n",
      "memory usage: 16.3+ GB\n"
     ]
    }
   ],
   "source": [
    "df = pd.read_csv(\"CiC_IoT23_merged.csv\", low_memory=False)\n",
    "df.info()"
   ]
  },
  {
   "cell_type": "code",
   "execution_count": 4,
   "id": "922e4dde-2dca-431b-a4a2-9bc6124d6c91",
   "metadata": {},
   "outputs": [
    {
     "name": "stdout",
     "output_type": "stream",
     "text": [
      "Groups of identical columns: [['Rate', 'Srate'], ['IPv', 'LLC']]\n"
     ]
    }
   ],
   "source": [
    "# Create a hash for each column\n",
    "def hash_column(series):\n",
    "    return md5(pd.util.hash_pandas_object(series, index=False).values).hexdigest()\n",
    "\n",
    "# Find columns with identical hashes\n",
    "def find_identical_columns_by_hash(df):\n",
    "    hash_dict = {}\n",
    "    for col in df.columns:\n",
    "        col_hash = hash_column(df[col])\n",
    "        if col_hash in hash_dict:\n",
    "            hash_dict[col_hash].append(col)\n",
    "        else:\n",
    "            hash_dict[col_hash] = [col]\n",
    "\n",
    "    return [cols for cols in hash_dict.values() if len(cols) > 1]\n",
    "\n",
    "# Applying the function to the DataFrame\n",
    "identical_column_groups = find_identical_columns_by_hash(df)\n",
    "print(\"Groups of identical columns:\", identical_column_groups)"
   ]
  },
  {
   "cell_type": "code",
   "execution_count": 5,
   "id": "586eaf21-c74a-4d94-b956-ed9a202133e8",
   "metadata": {},
   "outputs": [],
   "source": [
    "# Groups of identical columns\n",
    "identical_column_groups = [\n",
    "    ['Rate', 'Srate'],\n",
    "    ['IPv', 'LLC']\n",
    "]\n",
    "\n",
    "# Iterate through the list of groups and drop all but the first column\n",
    "for group in identical_column_groups:\n",
    "    # Keep the first column of the group and drop the rest\n",
    "    columns_to_drop = group[1:]  # all columns except the first one\n",
    "    df = df.drop(columns_to_drop, axis=1)"
   ]
  },
  {
   "cell_type": "code",
   "execution_count": 6,
   "id": "94fe40f2-a58d-45d0-81d6-caec54319b58",
   "metadata": {},
   "outputs": [
    {
     "data": {
      "text/plain": [
       "(46686579, 45)"
      ]
     },
     "execution_count": 6,
     "metadata": {},
     "output_type": "execute_result"
    }
   ],
   "source": [
    "df.shape"
   ]
  },
  {
   "cell_type": "code",
   "execution_count": 7,
   "id": "07968083-ee5f-4c36-bce1-26c4e22751a6",
   "metadata": {},
   "outputs": [],
   "source": [
    "dtypes = {\n",
    "        'flow_duration': np.float32,\n",
    "        'Header_Length': np.uint32,\n",
    "        'Protocol Type': np.uint16,\n",
    "        'Duration': np.float32,\n",
    "        'Rate': np.uint32,\n",
    "        'Drate': np.float32,\n",
    "        'fin_flag_number': np.bool_,\n",
    "        'syn_flag_number': np.bool_,\n",
    "        'rst_flag_number': np.bool_,\n",
    "        'psh_flag_number': np.bool_,\n",
    "        'ack_flag_number': np.bool_,\n",
    "        'ece_flag_number': np.bool_,\n",
    "        'cwr_flag_number': np.bool_,\n",
    "        'ack_count': np.float16,\n",
    "        'syn_count': np.float16,\n",
    "        'fin_count': np.uint16,\n",
    "        'urg_count': np.uint16, \n",
    "        'rst_count': np.uint16, \n",
    "        'HTTP': np.bool_, \n",
    "        'HTTPS': np.bool_, \n",
    "        'DNS': np.bool_, \n",
    "        'Telnet': np.bool_,\n",
    "        'SMTP': np.bool_, \n",
    "        'SSH': np.bool_, \n",
    "        'IRC': np.bool_, \n",
    "        'TCP': np.bool_, \n",
    "        'UDP': np.bool_, \n",
    "        'DHCP': np.bool_, \n",
    "        'ARP': np.bool_, \n",
    "        'ICMP': np.bool_, \n",
    "        'IPv': np.bool_, \n",
    "        'Tot sum': np.float32, \n",
    "        'Min': np.float32, \n",
    "        'Max': np.float32, \n",
    "        'AVG': np.float32, \n",
    "        'Std': np.float32, \n",
    "        'Tot size': np.float32, \n",
    "        'IAT': np.float32, \n",
    "        'Number': np.float32,\n",
    "        'Magnitue': np.float32, \n",
    "        'Radius': np.float32, \n",
    "        'Covariance': np.float32, \n",
    "        'Variance': np.float32, \n",
    "        'Weight': np.float32, \n",
    "        'label': str\n",
    "    }\n",
    "\n",
    "def convert_dtype(df):\n",
    "    # Adjust data type\n",
    "    for col,typ in dtypes.items():\n",
    "        df[col] = df[col].astype(typ)   \n",
    "    \n",
    "    \n",
    "    # Fix spelling error in original dataset\n",
    "    df['Magnitude'] = df['Magnitue']\n",
    "    return df.drop(['Magnitue'], axis=1)\n",
    "\n",
    "df = convert_dtype(df)"
   ]
  },
  {
   "cell_type": "code",
   "execution_count": 8,
   "id": "45ce3940-c9fb-44b1-b4ba-c4aa25fd31bb",
   "metadata": {},
   "outputs": [
    {
     "name": "stdout",
     "output_type": "stream",
     "text": [
      "<class 'pandas.core.frame.DataFrame'>\n",
      "RangeIndex: 46686579 entries, 0 to 46686578\n",
      "Data columns (total 45 columns):\n",
      " #   Column           Dtype  \n",
      "---  ------           -----  \n",
      " 0   flow_duration    float32\n",
      " 1   Header_Length    uint32 \n",
      " 2   Protocol Type    uint16 \n",
      " 3   Duration         float32\n",
      " 4   Rate             uint32 \n",
      " 5   Drate            float32\n",
      " 6   fin_flag_number  bool   \n",
      " 7   syn_flag_number  bool   \n",
      " 8   rst_flag_number  bool   \n",
      " 9   psh_flag_number  bool   \n",
      " 10  ack_flag_number  bool   \n",
      " 11  ece_flag_number  bool   \n",
      " 12  cwr_flag_number  bool   \n",
      " 13  ack_count        float16\n",
      " 14  syn_count        float16\n",
      " 15  fin_count        uint16 \n",
      " 16  urg_count        uint16 \n",
      " 17  rst_count        uint16 \n",
      " 18  HTTP             bool   \n",
      " 19  HTTPS            bool   \n",
      " 20  DNS              bool   \n",
      " 21  Telnet           bool   \n",
      " 22  SMTP             bool   \n",
      " 23  SSH              bool   \n",
      " 24  IRC              bool   \n",
      " 25  TCP              bool   \n",
      " 26  UDP              bool   \n",
      " 27  DHCP             bool   \n",
      " 28  ARP              bool   \n",
      " 29  ICMP             bool   \n",
      " 30  IPv              bool   \n",
      " 31  Tot sum          float32\n",
      " 32  Min              float32\n",
      " 33  Max              float32\n",
      " 34  AVG              float32\n",
      " 35  Std              float32\n",
      " 36  Tot size         float32\n",
      " 37  IAT              float32\n",
      " 38  Number           float32\n",
      " 39  Radius           float32\n",
      " 40  Covariance       float32\n",
      " 41  Variance         float32\n",
      " 42  Weight           float32\n",
      " 43  label            object \n",
      " 44  Magnitude        float32\n",
      "dtypes: bool(20), float16(2), float32(16), object(1), uint16(4), uint32(2)\n",
      "memory usage: 4.9+ GB\n"
     ]
    }
   ],
   "source": [
    "df.info()"
   ]
  },
  {
   "cell_type": "code",
   "execution_count": null,
   "id": "766def3a-22e4-4c59-8d83-be5e86d58e93",
   "metadata": {},
   "outputs": [],
   "source": [
    "df = df.drop_duplicates()\n",
    "df.shape"
   ]
  },
  {
   "cell_type": "code",
   "execution_count": null,
   "id": "2e9770b8-3863-4a9a-bf23-85938887caa3",
   "metadata": {},
   "outputs": [],
   "source": [
    "# Log-transform skewed columns\n",
    "num_cols = df.select_dtypes(include=['number']).columns\n",
    "\n",
    "skewness = df[num_cols].skew()\n",
    "\n",
    "cols_to_log = skewness[(skewness > 10) | (skewness.isna())].index.tolist()\n",
    "\n",
    "print(f\"Columnas a transformar con log1p ({len(cols_to_log)}):\")\n",
    "print(cols_to_log)\n",
    "\n",
    "df[cols_to_log] = np.log1p(df[cols_to_log])"
   ]
  },
  {
   "cell_type": "code",
   "execution_count": null,
   "id": "338e3df1-b8bf-4109-8d4d-a5de140183a5",
   "metadata": {},
   "outputs": [],
   "source": [
    "#Save to .parquet\n",
    "df.to_parquet('CiC_IoT23_clean.parquet')"
   ]
  }
 ],
 "metadata": {
  "kernelspec": {
   "display_name": "Python 3 (ipykernel)",
   "language": "python",
   "name": "python3"
  },
  "language_info": {
   "codemirror_mode": {
    "name": "ipython",
    "version": 3
   },
   "file_extension": ".py",
   "mimetype": "text/x-python",
   "name": "python",
   "nbconvert_exporter": "python",
   "pygments_lexer": "ipython3",
   "version": "3.13.1"
  }
 },
 "nbformat": 4,
 "nbformat_minor": 5
}
