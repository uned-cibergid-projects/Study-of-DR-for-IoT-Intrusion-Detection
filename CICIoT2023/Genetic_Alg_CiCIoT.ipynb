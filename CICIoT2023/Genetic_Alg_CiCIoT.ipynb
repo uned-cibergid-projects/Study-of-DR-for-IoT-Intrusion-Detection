{
 "cells": [
  {
   "cell_type": "code",
   "execution_count": 1,
   "id": "c7671df1-03d2-4eb4-87f6-18cb67a101a7",
   "metadata": {},
   "outputs": [],
   "source": [
    "import pandas as pd\n",
    "import numpy as np\n",
    "import time\n",
    "import matplotlib.pyplot as plt\n",
    "import pickle\n",
    "import os\n",
    "import random\n",
    "from genetic_selection import GeneticSelectionCV\n",
    "from sklearn.ensemble import RandomForestClassifier"
   ]
  },
  {
   "cell_type": "code",
   "execution_count": 2,
   "id": "8a79b6e0-a9d9-406c-aa26-40581d66bdb7",
   "metadata": {},
   "outputs": [],
   "source": [
    "from sklearn.model_selection import train_test_split\n",
    "from sklearn.metrics import classification_report"
   ]
  },
  {
   "cell_type": "code",
   "execution_count": 3,
   "id": "29cf5a5d-1ff4-4c10-84d1-bda7b07a43c5",
   "metadata": {},
   "outputs": [],
   "source": [
    "random.seed(2025)\n",
    "np.random.seed(2025)"
   ]
  },
  {
   "cell_type": "code",
   "execution_count": 4,
   "id": "d77536f2-466d-4afc-b7bf-9b2bda228b7c",
   "metadata": {},
   "outputs": [],
   "source": [
    "df = pd.read_parquet('CiC_IoT23_clean.parquet')"
   ]
  },
  {
   "cell_type": "code",
   "execution_count": 5,
   "id": "1c313fb5-829f-451e-81d9-20817f204d62",
   "metadata": {},
   "outputs": [],
   "source": [
    "# Creating a dictionary of attack types for 33 attack classes + 1 for benign traffic\n",
    "attacks = {'BenignTraffic': 0 ,\n",
    "                    'DDoS-RSTFINFlood' :1, 'DDoS-PSHACK_Flood':2,  'DDoS-SYN_Flood':3, 'DDoS-UDP_Flood':4, 'DDoS-TCP_Flood':5, \n",
    "                    'DDoS-ICMP_Flood':6, 'DDoS-SynonymousIP_Flood':7, 'DDoS-ACK_Fragmentation':8, 'DDoS-UDP_Fragmentation':9, 'DDoS-ICMP_Fragmentation':10, \n",
    "                    'DDoS-SlowLoris':11, 'DDoS-HTTP_Flood':12, 'DoS-UDP_Flood':13, 'DoS-SYN_Flood':14, 'DoS-TCP_Flood':15, 'DoS-HTTP_Flood':16,                 # DDoS and DoS\n",
    "                    'Mirai-greeth_flood': 17, 'Mirai-greip_flood': 18, 'Mirai-udpplain': 19,                                                                    # Mirai \n",
    "                    'Recon-PingSweep': 20, 'Recon-OSScan': 21, 'Recon-PortScan': 22, 'VulnerabilityScan': 23, 'Recon-HostDiscovery': 24,                        # Reconnaissance\n",
    "                    'DNS_Spoofing': 25, 'MITM-ArpSpoofing': 26,                                                                                                 # Spoofing\n",
    "                    'BrowserHijacking': 27, 'Backdoor_Malware': 28, 'XSS': 29, 'Uploading_Attack': 30, 'SqlInjection': 31, 'CommandInjection': 32,              # Web\n",
    "                    'DictionaryBruteForce': 33}\n",
    "df['label'] = df['label'].map(attacks)"
   ]
  },
  {
   "cell_type": "code",
   "execution_count": 6,
   "id": "3ca6412d-6ed5-44e3-b267-25b757b02ac7",
   "metadata": {},
   "outputs": [],
   "source": [
    "X = df.drop(columns=['label'])\n",
    "y = df['label']"
   ]
  },
  {
   "cell_type": "code",
   "execution_count": 7,
   "id": "00b056b0-47dc-4b5e-b57d-91ce81af284c",
   "metadata": {},
   "outputs": [],
   "source": [
    "# Split the data into train (80%) and test (20%) sets\n",
    "X_train, X_test, y_train, y_test = train_test_split(X, y, test_size=0.2, random_state=42, stratify=y)"
   ]
  },
  {
   "cell_type": "code",
   "execution_count": 8,
   "id": "debe966c-ea64-4e14-8cf4-4137c3fe0e26",
   "metadata": {},
   "outputs": [
    {
     "name": "stdout",
     "output_type": "stream",
     "text": [
      "Final distribution on training set:\n",
      "\n",
      "label\n",
      "4     1731932\n",
      "7      921991\n",
      "13     904657\n",
      "15     514912\n",
      "14     472653\n",
      "3      434843\n",
      "2      367298\n",
      "6      361768\n",
      "0      351416\n",
      "5      336001\n",
      "19     284984\n",
      "17     260483\n",
      "1      226200\n",
      "18     222442\n",
      "10     204337\n",
      "26     147643\n",
      "9      137724\n",
      "8      125031\n",
      "25      85847\n",
      "21      78410\n",
      "22      65610\n",
      "24      64450\n",
      "16      57314\n",
      "23      29906\n",
      "12      22969\n",
      "11      18741\n",
      "33      10451\n",
      "27       4687\n",
      "32       4327\n",
      "31       4196\n",
      "29       3077\n",
      "28       2574\n",
      "20       1805\n",
      "30       1002\n",
      "Name: count, dtype: int64\n"
     ]
    }
   ],
   "source": [
    "# Undersampling majority classes\n",
    "df_train = X_train.copy()\n",
    "df_train['label'] = y_train\n",
    "\n",
    "# Contador por clase\n",
    "label_counts = df_train['label'].value_counts()\n",
    "\n",
    "# Lista para almacenar los subsets\n",
    "sampled_dfs = []\n",
    "\n",
    "for label, count in label_counts.items():\n",
    "    class_subset = df_train[df_train['label'] == label]\n",
    "    \n",
    "    if count < 100_000:\n",
    "        sampled = class_subset  # conservar todo\n",
    "    elif count < 500_000:\n",
    "        sampled = class_subset.sample(frac=0.6, random_state=42)\n",
    "    elif count < 5_000_000:\n",
    "        sampled = class_subset.sample(frac=0.4, random_state=42)        \n",
    "    else:\n",
    "        sampled = class_subset.sample(frac=0.2, random_state=42)\n",
    "    \n",
    "    sampled_dfs.append(sampled)\n",
    "\n",
    "# Unir todos los subconjuntos\n",
    "df_train_sampled = pd.concat(sampled_dfs, ignore_index=True)\n",
    "\n",
    "# Separar nuevamente X_train e y_train\n",
    "X_train = df_train_sampled.drop(columns='label')\n",
    "y_train = df_train_sampled['label']\n",
    "\n",
    "# Mostrar la nueva distribución\n",
    "print(\"Final distribution on training set:\\n\")\n",
    "print(y_train.value_counts())"
   ]
  },
  {
   "cell_type": "code",
   "execution_count": 9,
   "id": "46c9874b-785d-4d4e-acba-ca63b1eeb15e",
   "metadata": {},
   "outputs": [
    {
     "name": "stdout",
     "output_type": "stream",
     "text": [
      "0.9905935074546834\n"
     ]
    }
   ],
   "source": [
    "# Train a base RF model as reference\n",
    "rf = RandomForestClassifier(n_estimators=20, random_state=42, n_jobs=10)\n",
    "rf.fit(X_train, y_train)\n",
    "accuracy_base = rf.score(X_test, y_test)\n",
    "print(accuracy_base)"
   ]
  },
  {
   "cell_type": "code",
   "execution_count": 10,
   "id": "4f6221a0-28e6-456c-9699-d59cfa161a52",
   "metadata": {},
   "outputs": [],
   "source": [
    "# Configure GeneticSelectionCV with custom scoring function\n",
    "n_generations = 5 \n",
    "ga_selector = GeneticSelectionCV(\n",
    "    estimator=rf,                \n",
    "    cv=3,\n",
    "    verbose=1,\n",
    "    scoring='accuracy',      \n",
    "    max_features=X_train.shape[1],\n",
    "    n_population=60,\n",
    "    crossover_proba=0.5,\n",
    "    mutation_proba=0.2,\n",
    "    n_generations=n_generations,\n",
    "    n_jobs=1 \n",
    ")"
   ]
  },
  {
   "cell_type": "code",
   "execution_count": 11,
   "id": "70212db1-ab07-4774-a0e4-0140597a82d1",
   "metadata": {},
   "outputs": [
    {
     "name": "stdout",
     "output_type": "stream",
     "text": [
      "Selecting features with genetic algorithm.\n",
      "gen\tnevals\tavg                               \tstd                               \tmin                            \tmax                               \n",
      "0  \t60    \t[  0.814275  22.466667   0.000112]\t[  0.226794  13.835301   0.000063]\t[ 0.245338  1.        0.000013]\t[  0.984796  44.         0.000311]\n",
      "1  \t35    \t[  0.965946  29.95       0.000102]\t[ 0.056272  8.978539  0.000045]   \t[ 0.681676  8.        0.000029]\t[  0.98501   44.         0.000197]\n",
      "2  \t36    \t[  0.982069  29.65       0.000097]\t[ 0.017828  6.898853  0.000061]   \t[  0.845168  17.         0.000009]\t[  0.985022  43.         0.000276]\n",
      "3  \t34    \t[  0.98244   25.6        0.000073]\t[ 0.017872  5.577335  0.00005 ]   \t[  0.845181  17.         0.000009]\t[  0.985149  41.         0.00031 ]\n",
      "4  \t38    \t[  0.984903  23.85       0.00007 ]\t[ 0.000244  3.529991  0.00004 ]   \t[  0.984322  17.         0.000002]\t[  0.985342  30.         0.000197]\n",
      "5  \t29    \t[  0.985038  22.75       0.000071]\t[ 0.000298  3.529046  0.000035]   \t[  0.983645  15.         0.000013]\t[  0.985508  28.         0.000192]\n"
     ]
    }
   ],
   "source": [
    "# Genetic Algorithm run\n",
    "start_time = time.time()\n",
    "ga_selector.fit(X_train, y_train)\n",
    "ga_time = time.time() - start_time"
   ]
  },
  {
   "cell_type": "code",
   "execution_count": 12,
   "id": "0ecc55ee-c322-4bd9-a1d0-94241e25db7c",
   "metadata": {},
   "outputs": [
    {
     "name": "stdout",
     "output_type": "stream",
     "text": [
      "Features selected by Genetic Algorithm: ['flow_duration', 'Header_Length', 'Protocol Type', 'Rate', 'syn_flag_number', 'psh_flag_number', 'syn_count', 'fin_count', 'urg_count', 'rst_count', 'HTTP', 'DNS', 'Telnet', 'SSH', 'ARP', 'IPv', 'Max', 'IAT', 'Number', 'Weight']\n"
     ]
    }
   ],
   "source": [
    "# List of selected features\n",
    "selected_features = X_train.columns[ga_selector.support_]\n",
    "print(\"Features selected by Genetic Algorithm:\", list(selected_features))"
   ]
  },
  {
   "cell_type": "code",
   "execution_count": 13,
   "id": "47cd3bf4-8882-4880-a0d8-a701136689cf",
   "metadata": {},
   "outputs": [
    {
     "name": "stdout",
     "output_type": "stream",
     "text": [
      " Number of selected features: 20\n",
      "\n",
      " Accuracy with selected features: 0.9913\n",
      "\n",
      " Test accuracy: 0.9913\n",
      "\n",
      " Training time: 46.7678\n",
      "\n",
      " Inference_time: 9.6374\n",
      "\n",
      " Model Size: 1576.3602\n",
      "\n",
      " Selected Features: ['flow_duration', 'Header_Length', 'Protocol Type', 'Rate', 'syn_flag_number', 'psh_flag_number', 'syn_count', 'fin_count', 'urg_count', 'rst_count', 'HTTP', 'DNS', 'Telnet', 'SSH', 'ARP', 'IPv', 'Max', 'IAT', 'Number', 'Weight']\n",
      "\n",
      "              precision    recall  f1-score   support\n",
      "\n",
      "           0     0.9317    0.9686    0.9498    219636\n",
      "           1     0.9993    0.9988    0.9990    141375\n",
      "           2     0.9998    0.9994    0.9996    229562\n",
      "           3     0.9997    0.9995    0.9996    271777\n",
      "           4     0.9998    0.9999    0.9998   1082458\n",
      "           5     0.9996    0.9996    0.9996    210001\n",
      "           6     0.9998    0.9997    0.9997    226105\n",
      "           7     0.9998    0.9996    0.9997    576244\n",
      "           8     0.9969    0.9990    0.9980     52096\n",
      "           9     0.9980    0.9988    0.9984     57385\n",
      "          10     0.9991    0.9994    0.9993     85140\n",
      "          11     0.9782    0.9951    0.9866      4685\n",
      "          12     0.9918    0.9932    0.9925      5742\n",
      "          13     0.9998    0.9996    0.9997    565411\n",
      "          14     0.9996    0.9998    0.9997    295408\n",
      "          15     0.9999    0.9999    0.9999    321820\n",
      "          16     0.9977    0.9987    0.9982     14328\n",
      "          17     0.9995    0.9994    0.9994    108534\n",
      "          18     0.9990    0.9992    0.9991     92684\n",
      "          19     0.9999    0.9997    0.9998    178115\n",
      "          20     0.8112    0.4479    0.5771       451\n",
      "          21     0.7387    0.6906    0.7139     19602\n",
      "          22     0.6989    0.7290    0.7137     16403\n",
      "          23     0.9956    0.9971    0.9963      7476\n",
      "          24     0.8523    0.8700    0.8610     26854\n",
      "          25     0.8282    0.7775    0.8021     35770\n",
      "          26     0.9167    0.8652    0.8902     61518\n",
      "          27     0.8902    0.5324    0.6663      1172\n",
      "          28     0.8300    0.4472    0.5812       644\n",
      "          29     0.7500    0.4759    0.5823       769\n",
      "          30     0.8182    0.2880    0.4260       250\n",
      "          31     0.9006    0.5443    0.6786      1049\n",
      "          32     0.8588    0.5619    0.6793      1082\n",
      "          33     0.8819    0.6204    0.7284      2613\n",
      "\n",
      "    accuracy                         0.9913   4914159\n",
      "   macro avg     0.9312    0.8469    0.8769   4914159\n",
      "weighted avg     0.9912    0.9913    0.9912   4914159\n",
      "\n"
     ]
    }
   ],
   "source": [
    "# Assess the model with selected features\n",
    "X_train_selected = X_train[selected_features]\n",
    "X_test_selected = X_test[selected_features]\n",
    "\n",
    "start_train = time.time()\n",
    "rf.fit(X_train_selected, y_train)\n",
    "train_time = time.time() - start_train  \n",
    "\n",
    "num_repetitions = 10    \n",
    "inference_times = []\n",
    "for _ in range(num_repetitions):\n",
    "    start_pred = time.time()\n",
    "    y_pred = rf.predict(X_test_selected)\n",
    "    inference_times.append(time.time() - start_pred)\n",
    "\n",
    "inference_time_median = np.median(inference_times)\n",
    "\n",
    "y_pred = rf.predict(X_test_selected)\n",
    "accuracy_ga = rf.score(X_test_selected, y_test)\n",
    "\n",
    "print(f\" Number of selected features: {len(selected_features)}\\n\"),\n",
    "print(f\" Accuracy with selected features: {accuracy_ga:.4f}\\n\")\n",
    "\n",
    "# Save model\n",
    "model_filename = os.path.join(\"RaspberryPi\", \"GA_model.pkl\")\n",
    "with open(model_filename, \"wb\") as f:\n",
    "    pickle.dump(rf, f)    \n",
    "    \n",
    "model_size = os.path.getsize(model_filename) / (1024 * 1024)  # Convertir a MB    \n",
    "\n",
    "# Save feature names\n",
    "features_filename = os.path.join(\"RaspberryPi\", \"GA_features.npy\")\n",
    "np.save(features_filename, np.array(selected_features))\n",
    "\n",
    "# Print results\n",
    "results_ga = pd.DataFrame({\n",
    "    \"Num Features\": [len(selected_features)],\n",
    "    \"Selected Features\": [list(selected_features)],    \n",
    "    \"Accuracy\": [accuracy_ga],\n",
    "    \"Train time\": [train_time],   \n",
    "    \"Inference time\": [inference_time_median],\n",
    "    \"Model size\": [train_time]       \n",
    "})\n",
    "\n",
    "# Print results\n",
    "print(f\" Test accuracy: {accuracy_ga:.4f}\\n\")\n",
    "print(f\" Training time: {train_time:.4f}\\n\")\n",
    "print(f\" Inference_time: {inference_time_median:.4f}\\n\")\n",
    "print(f\" Model Size: {model_size:.4f}\\n\")  \n",
    "print(f\" Selected Features: {list(selected_features)}\\n\")\n",
    "\n",
    "print(classification_report(y_test, y_pred, digits=4))"
   ]
  }
 ],
 "metadata": {
  "kernelspec": {
   "display_name": "Python 3 (ipykernel)",
   "language": "python",
   "name": "python3"
  },
  "language_info": {
   "codemirror_mode": {
    "name": "ipython",
    "version": 3
   },
   "file_extension": ".py",
   "mimetype": "text/x-python",
   "name": "python",
   "nbconvert_exporter": "python",
   "pygments_lexer": "ipython3",
   "version": "3.13.1"
  }
 },
 "nbformat": 4,
 "nbformat_minor": 5
}
